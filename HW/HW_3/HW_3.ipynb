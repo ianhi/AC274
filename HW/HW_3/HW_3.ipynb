{
 "cells": [
  {
   "cell_type": "code",
   "execution_count": 1,
   "metadata": {
    "collapsed": true
   },
   "outputs": [],
   "source": [
    "%matplotlib inline\n",
    "import numpy as np\n",
    "import matplotlib.pyplot as plt"
   ]
  },
  {
   "cell_type": "markdown",
   "metadata": {},
   "source": [
    "## Upwind 1D Continuity -  Constant Velocity"
   ]
  },
  {
   "cell_type": "code",
   "execution_count": 17,
   "metadata": {
    "collapsed": false
   },
   "outputs": [],
   "source": [
    "# Params\n",
    "Nsteps = 500\n",
    "nx = 500\n",
    "sizeX = 1.0\n",
    "dif = 0\n",
    "vel = .1\n",
    "# dx = sizeX/(nx-1)\n",
    "x = np.linspace(0,1,Nsteps)\n",
    "f = np.zeros([Nsteps,nx])\n",
    "dx = x[1]-x[0]\n",
    "cfl = .1\n",
    "if dif != 0:\n",
    "    dtd = .5*dx**2/dif\n",
    "else:\n",
    "    dtd = 1.0\n",
    "if vel != 0:\n",
    "    dta = dx/vel\n",
    "dt = cfl *np.min([dtd,dta])\n",
    "\n",
    "dnum = dx*dx/dt\n",
    "delta = dif/dnum\n",
    "\n",
    "sigma = 20*dx\n",
    "xm = .5*(sizeX-sigma)\n",
    "xp = .5*(sizeX+sigma)"
   ]
  },
  {
   "cell_type": "code",
   "execution_count": 20,
   "metadata": {
    "collapsed": false
   },
   "outputs": [
    {
     "data": {
      "text/plain": [
       "[<matplotlib.lines.Line2D at 0x1ee2f330860>]"
      ]
     },
     "execution_count": 20,
     "metadata": {},
     "output_type": "execute_result"
    },
    {
     "data": {
      "image/png": "[encoded data removed]",
      "text/plain": [
       "<matplotlib.figure.Figure at 0x1ee2f330a58>"
      ]
     },
     "metadata": {},
     "output_type": "display_data"
    }
   ],
   "source": [
    "f[0][(xm<x) & (x<xp)] = 1\n",
    "plt.plot(f[0])\n",
    "\n",
    "u = np.ones(nx)*vel\n",
    "plt.plot(u)"
   ]
  },
  {
   "cell_type": "code",
   "execution_count": 12,
   "metadata": {
    "collapsed": false
   },
   "outputs": [
    {
     "name": "stdout",
     "output_type": "stream",
     "text": [
      "Object `np.and` not found.\n"
     ]
    }
   ],
   "source": []
  },
  {
   "cell_type": "code",
   "execution_count": null,
   "metadata": {
    "collapsed": true
   },
   "outputs": [],
   "source": []
  }
 ],
 "metadata": {
  "anaconda-cloud": {},
  "kernelspec": {
   "display_name": "Python [conda root]",
   "language": "python",
   "name": "conda-root-py"
  },
  "language_info": {
   "codemirror_mode": {
    "name": "ipython",
    "version": 3
   },
   "file_extension": ".py",
   "mimetype": "text/x-python",
   "name": "python",
   "nbconvert_exporter": "python",
   "pygments_lexer": "ipython3",
   "version": "3.5.2"
  }
 },
 "nbformat": 4,
 "nbformat_minor": 1
}
